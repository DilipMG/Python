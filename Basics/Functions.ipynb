{
 "cells": [
  {
   "cell_type": "code",
   "execution_count": 1,
   "metadata": {},
   "outputs": [
    {
     "name": "stdout",
     "output_type": "stream",
     "text": [
      "Dilip Tutorials\n"
     ]
    }
   ],
   "source": [
    "#Function definition \n",
    "\n",
    "def dilip():\n",
    "    print(\"Hello World!\")\n",
    "    \n",
    "print('Dilip Tutorials')"
   ]
  },
  {
   "cell_type": "code",
   "execution_count": 2,
   "metadata": {},
   "outputs": [
    {
     "name": "stdout",
     "output_type": "stream",
     "text": [
      "\n",
      "Hello World!\n",
      "\n",
      "Dilip Tutorials\n"
     ]
    }
   ],
   "source": [
    "#invoking a function\n",
    "\n",
    "def main():\n",
    "    print(\"\\nHello World!\")\n",
    "    \n",
    "main()  \n",
    "print('\\nDilip Tutorials')"
   ]
  },
  {
   "cell_type": "code",
   "execution_count": 3,
   "metadata": {},
   "outputs": [
    {
     "name": "stdout",
     "output_type": "stream",
     "text": [
      "Enter any number:5\n",
      "Square of 5 is 25\n"
     ]
    }
   ],
   "source": [
    "# Passing a argument to funtion \n",
    "\n",
    "def square(num):\n",
    "    return num * num\n",
    "\n",
    "number=int(input(\"Enter any number:\"))\n",
    "squ = square(number)\n",
    "\n",
    "print('Square of {} is {}'.format(number, squ))"
   ]
  },
  {
   "cell_type": "code",
   "execution_count": 4,
   "metadata": {},
   "outputs": [
    {
     "name": "stdout",
     "output_type": "stream",
     "text": [
      "Default parameter is 5. Square of 5 is 25\n",
      "Enter any number:3\n",
      "\n",
      "Square of 3 is 9\n"
     ]
    }
   ],
   "source": [
    "# Passing a argument to funtion \n",
    "\n",
    "def square(num=5):\n",
    "    return num * num\n",
    "\n",
    "squ = square()\n",
    "print('Default parameter is 5. Square of 5 is', squ)\n",
    "\n",
    "number=int(input(\"Enter any number:\"))\n",
    "squ = square(number)\n",
    "print('\\nSquare of {} is {}'.format(number, squ))"
   ]
  },
  {
   "cell_type": "code",
   "execution_count": 5,
   "metadata": {},
   "outputs": [
    {
     "name": "stdout",
     "output_type": "stream",
     "text": [
      "The result from exponential function:  81\n",
      "The result from exponential function:  81\n",
      "The result from exponential function:  81\n",
      "The result from exponential function:  64\n",
      "The result from exponential function:  36\n"
     ]
    }
   ],
   "source": [
    "# Passing a partial argument or positioanl arguments \n",
    "\n",
    "def exponential(base, exponent=2):\n",
    "    return base ** exponent\n",
    "\n",
    "print('The result from exponential function: ',exponential(base=3, exponent=4))\n",
    "print('The result from exponential function: ',exponential(exponent=4,base=3))\n",
    "print('The result from exponential function: ',exponential(3,4))\n",
    "print('The result from exponential function: ',exponential(4,3))\n",
    "print('The result from exponential function: ',exponential(6))"
   ]
  },
  {
   "cell_type": "code",
   "execution_count": 6,
   "metadata": {},
   "outputs": [
    {
     "name": "stdout",
     "output_type": "stream",
     "text": [
      "The result from exponential function:  81\n",
      "The result from exponential function:  81\n"
     ]
    }
   ],
   "source": [
    "'''lambda function \n",
    "Its a nameless function in a single line\n",
    "<lambda> <arguments>: <expression>'''\n",
    "\n",
    "exp = lambda base, exponent: base ** exponent\n",
    "\n",
    "print('The result from exponential function: ',exp(3,4))\n",
    "\n",
    "print('The result from exponential function: ',(lambda base, exponent: base ** exponent)(3,4))"
   ]
  },
  {
   "cell_type": "code",
   "execution_count": 7,
   "metadata": {},
   "outputs": [
    {
     "name": "stdout",
     "output_type": "stream",
     "text": [
      "[10, 8, 7, 5, 11]\n"
     ]
    }
   ],
   "source": [
    "#filter in lambda. The filter function is used to select some particular elements from a sequence of elements.\n",
    "\n",
    "seq = [10,2,8,7,5,4,3,11,0, 1]\n",
    "filtered_result = filter (lambda x: x > 4, seq) \n",
    "print(list(filtered_result))"
   ]
  },
  {
   "cell_type": "code",
   "execution_count": 8,
   "metadata": {},
   "outputs": [
    {
     "name": "stdout",
     "output_type": "stream",
     "text": [
      "[0, 1, 4, 9, 16, 25, 49, 64, 100, 121]\n"
     ]
    }
   ],
   "source": [
    "#the map function is used to apply a particular operation to every element in a sequence\n",
    "\n",
    "seq = [10,2,8,7,5,4,3,11,0, 1]\n",
    "filtered_result = map (lambda x: x*x, seq) \n",
    "x=list(filtered_result)\n",
    "x.sort()\n",
    "print(x)"
   ]
  },
  {
   "cell_type": "code",
   "execution_count": 9,
   "metadata": {},
   "outputs": [
    {
     "name": "stdout",
     "output_type": "stream",
     "text": [
      "120\n"
     ]
    }
   ],
   "source": [
    "#reduce()\n",
    "# The reduce function, like map(), is used to apply an operation to every element in a sequence.\n",
    "\n",
    "from functools import reduce\n",
    "sequences = [1,2,3,4,5]\n",
    "product = reduce (lambda x, y: x*y, sequences)\n",
    "print(product)"
   ]
  },
  {
   "cell_type": "code",
   "execution_count": 10,
   "metadata": {},
   "outputs": [
    {
     "name": "stdout",
     "output_type": "stream",
     "text": [
      "The absolute value of an integer number -25 is:25\n",
      "The absolute value of a float number -10.5 is :10.5\n",
      "The absolute value of a float number (3+10j) is :10.44030650891055\n"
     ]
    }
   ],
   "source": [
    "# abs()\n",
    "\n",
    "# testing abs() for an integer and float\n",
    "\n",
    "int_num = -25\n",
    "float_num = -10.50\n",
    "complex_num = (3+10j)\n",
    "\n",
    "print(\"The absolute value of an integer number {} is:{}\".format(int_num,abs(int_num)))\n",
    "print(\"The absolute value of a float number {} is :{}\".format(float_num,abs(float_num)))\n",
    "print(\"The absolute value of a float number {} is :{}\".format(complex_num,abs(complex_num)))"
   ]
  },
  {
   "cell_type": "code",
   "execution_count": 11,
   "metadata": {},
   "outputs": [
    {
     "name": "stdout",
     "output_type": "stream",
     "text": [
      "Range function between 0 to 10\n",
      "0 1 2 3 4 5 6 7 8 9 \n",
      "-------------------------------------------\n",
      "Range function between 3 to 10\n",
      "3 4 5 6 7 8 9 \n",
      "-------------------------------------------\n",
      "Range function between 3 to 10 with 2 steps\n",
      "3 5 7 9 \n",
      "-------------------------------------------\n",
      "Range function between 15 to 5 with 1 step backwards\n",
      "15 14 13 12 11 10 9 8 7 6 \n",
      "-------------------------------------------\n"
     ]
    }
   ],
   "source": [
    "# range()\n",
    "\n",
    "print(\"Range function between 0 to 10\")\n",
    "for i in range(10):\n",
    "    print(i, end =\" \")\n",
    "print('\\n-------------------------------------------')\n",
    "\n",
    "print(\"Range function between 3 to 10\")\n",
    "for i in range(3, 10):\n",
    "    print(i, end =\" \")\n",
    "print('\\n-------------------------------------------')\n",
    "\n",
    "print(\"Range function between 3 to 10 with 2 steps\")\n",
    "for i in range(3, 10, 2):\n",
    "    print(i, end =\" \")\n",
    "print('\\n-------------------------------------------')\n",
    "\n",
    "print(\"Range function between 15 to 5 with 1 step backwards\")\n",
    "for i in range(15, 5, -1):\n",
    "    print(i, end =\" \")\n",
    "print('\\n-------------------------------------------')"
   ]
  },
  {
   "cell_type": "code",
   "execution_count": 12,
   "metadata": {},
   "outputs": [
    {
     "name": "stdout",
     "output_type": "stream",
     "text": [
      "\n",
      "-------------------------------------------\n",
      "Java,C,C++,Python,\n",
      "-------------------------------------------\n",
      "[0, 1, 2, 3, 4, 5, 6, 7, 8, 9]\n",
      "-------------------------------------------\n",
      "Range with Numpy \n",
      "0 1 2 3 4 5 6 7 8 9 "
     ]
    }
   ],
   "source": [
    "# range() for list\n",
    "\n",
    "print('\\n-------------------------------------------')\n",
    "arr_list = ['Java', 'C', 'C++', 'Python']\n",
    "\n",
    "for i in range(len(arr_list)):\n",
    "    print(arr_list[i], end =\",\")\n",
    "print('\\n-------------------------------------------')   \n",
    "print(list(range(10)))\n",
    "print('-------------------------------------------')\n",
    "print('Range with Numpy ')\n",
    "import numpy as np \n",
    "\n",
    "for  i in np.arange(10):\n",
    "    print(i, end =\" \") "
   ]
  },
  {
   "cell_type": "code",
   "execution_count": 13,
   "metadata": {},
   "outputs": [
    {
     "name": "stdout",
     "output_type": "stream",
     "text": [
      "The rounded value without num_of_decimals is : 11\n",
      "The rounded value without num_of_decimals is : 10\n",
      "The rounded value with num_of_decimals as 2 is : 10.35\n",
      "The rounded value with num_of_decimals as 2 is : 10.34\n"
     ]
    }
   ],
   "source": [
    "# round()\n",
    "\n",
    "float_num1 = 10.60 # here the value will be rounded to 11 as after the decimal point the number is 6 that is >5 \n",
    "float_num2 = 10.40 # here the value will be rounded to 10 as after the decimal point the number is 4 that is <=5\n",
    "float_num3 = 10.3456 # here the value will be 10.35 as after the 2 decimal points the value >=5 \n",
    "float_num4 = 10.3445 #here the value will be 10.34 as after the 2 decimal points the value is <5 \n",
    "\n",
    "print(\"The rounded value without num_of_decimals is :\", round(float_num1))\n",
    "print(\"The rounded value without num_of_decimals is :\", round(float_num2))\n",
    "print(\"The rounded value with num_of_decimals as 2 is :\", round(float_num3, 2))\n",
    "print(\"The rounded value with num_of_decimals as 2 is :\", round(float_num4, 2))"
   ]
  },
  {
   "cell_type": "code",
   "execution_count": 14,
   "metadata": {},
   "outputs": [
    {
     "name": "stdout",
     "output_type": "stream",
     "text": [
      "[-0.34  1.46  4.23 -0.34  7.63  5.12]\n"
     ]
    }
   ],
   "source": [
    "# round () on Numpy\n",
    "# testing round()\n",
    "\n",
    "import numpy as np\n",
    "\n",
    "arr = [-0.341111, 1.455098989, 4.232323, -0.3432326, 7.626632, 5.122323]\n",
    "arr1 = np.round(arr, 2)\n",
    "\n",
    "print(arr1)"
   ]
  },
  {
   "cell_type": "code",
   "execution_count": 15,
   "metadata": {},
   "outputs": [
    {
     "name": "stdout",
     "output_type": "stream",
     "text": [
      "[3, 4, 4, 6, 6, 8, 8, 10]\n"
     ]
    }
   ],
   "source": [
    "#Example1\n",
    "\n",
    "my_list = [2.6743,3.63526,4.2325,5.9687967,6.3265,7.6988,8.232,9.6907]\n",
    "updated_list = map(round, my_list)\n",
    "print(list(updated_list))"
   ]
  },
  {
   "cell_type": "code",
   "execution_count": 16,
   "metadata": {},
   "outputs": [
    {
     "name": "stdout",
     "output_type": "stream",
     "text": [
      "I am Dilip. I am from Bengaluru!\n",
      "---------------------------------\n",
      "I AM DILIP. I AM FROM BENGALURU!"
     ]
    }
   ],
   "source": [
    "#Example2\n",
    "\n",
    "def myMapFunc(s):\n",
    "    return s.upper()\n",
    "my_str = \"I am Dilip. I am from Bengaluru!\"\n",
    "print(my_str)\n",
    "updated_list = map(myMapFunc, my_str)\n",
    "print(\"---------------------------------\")\n",
    "for i in updated_list:\n",
    "    print(i, end=\"\")"
   ]
  },
  {
   "cell_type": "code",
   "execution_count": 17,
   "metadata": {},
   "outputs": [
    {
     "name": "stdout",
     "output_type": "stream",
     "text": [
      "['a_PHP', 'b_Java', 'b_Python', 'd_C++', 'e_C']\n"
     ]
    }
   ],
   "source": [
    "#Example3\n",
    "\n",
    "def myMapFunc(list1, tuple1):\n",
    "    return list1+\"_\"+tuple1\n",
    "\n",
    "my_list = ['a','b', 'b', 'd', 'e']\n",
    "my_tuple = ('PHP','Java','Python','C++','C')\n",
    "\n",
    "updated_list = map(myMapFunc, my_list,my_tuple)\n",
    "print(list(updated_list))"
   ]
  },
  {
   "cell_type": "code",
   "execution_count": null,
   "metadata": {},
   "outputs": [],
   "source": []
  }
 ],
 "metadata": {
  "kernelspec": {
   "display_name": "Python 3",
   "language": "python",
   "name": "python3"
  },
  "language_info": {
   "codemirror_mode": {
    "name": "ipython",
    "version": 3
   },
   "file_extension": ".py",
   "mimetype": "text/x-python",
   "name": "python",
   "nbconvert_exporter": "python",
   "pygments_lexer": "ipython3",
   "version": "3.7.4"
  }
 },
 "nbformat": 4,
 "nbformat_minor": 2
}
