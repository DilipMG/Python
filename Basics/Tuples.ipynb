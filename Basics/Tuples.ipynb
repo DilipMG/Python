{
 "cells": [
  {
   "cell_type": "markdown",
   "metadata": {},
   "source": [
    "# Tuples"
   ]
  },
  {
   "cell_type": "code",
   "execution_count": 1,
   "metadata": {},
   "outputs": [
    {
     "data": {
      "text/plain": [
       "'To perform different task, tuple allows you to use many built-in functions like\\nall(), any(), enumerate(), max(), min(), sorted(), len(), tuple(), etc.'"
      ]
     },
     "execution_count": 1,
     "metadata": {},
     "output_type": "execute_result"
    }
   ],
   "source": [
    "'''To perform different task, tuple allows you to use many built-in functions like\n",
    "all(), any(), enumerate(), max(), min(), sorted(), len(), tuple(), etc.'''"
   ]
  },
  {
   "cell_type": "code",
   "execution_count": 2,
   "metadata": {},
   "outputs": [
    {
     "data": {
      "text/plain": [
       "('Jan', 'feb', 'march')"
      ]
     },
     "execution_count": 2,
     "metadata": {},
     "output_type": "execute_result"
    }
   ],
   "source": [
    "Tup = ('Jan','feb','march')\n",
    "Tup"
   ]
  },
  {
   "cell_type": "code",
   "execution_count": 3,
   "metadata": {},
   "outputs": [
    {
     "data": {
      "text/plain": [
       "()"
      ]
     },
     "execution_count": 3,
     "metadata": {},
     "output_type": "execute_result"
    }
   ],
   "source": [
    "tup1=()\n",
    "tup1"
   ]
  },
  {
   "cell_type": "code",
   "execution_count": 4,
   "metadata": {},
   "outputs": [
    {
     "data": {
      "text/plain": [
       "(1,)"
      ]
     },
     "execution_count": 4,
     "metadata": {},
     "output_type": "execute_result"
    }
   ],
   "source": [
    "tup=(1,)\n",
    "tup"
   ]
  },
  {
   "cell_type": "code",
   "execution_count": 5,
   "metadata": {},
   "outputs": [
    {
     "name": "stdout",
     "output_type": "stream",
     "text": [
      "Robert\n",
      "(2, 3, 4)\n"
     ]
    }
   ],
   "source": [
    "# Tuple Slicing \n",
    "\n",
    "tup1 = ('Robert', 'Carlos','1965','Terminator 1995', 'Actor','Florida');\n",
    "tup2 = (1,2,3,4,5,6,7);\n",
    "\n",
    "print(tup1[0])\n",
    "print(tup2[1:4])"
   ]
  },
  {
   "cell_type": "code",
   "execution_count": 6,
   "metadata": {},
   "outputs": [
    {
     "name": "stdout",
     "output_type": "stream",
     "text": [
      "('c', 'd')\n"
     ]
    }
   ],
   "source": [
    "x = (\"a\", \"b\",\"c\", \"d\", \"e\")\n",
    "print(x[2:4])"
   ]
  },
  {
   "cell_type": "code",
   "execution_count": 7,
   "metadata": {},
   "outputs": [
    {
     "name": "stdout",
     "output_type": "stream",
     "text": [
      "Guru99\n",
      "20\n",
      "Education\n"
     ]
    }
   ],
   "source": [
    "x = (\"Guru99\", 20, \"Education\")    # tuple packing\n",
    "(company, emp, profile) = x        # tuple unpacking\n",
    "print(company)\n",
    "print(emp)\n",
    "print(profile)"
   ]
  },
  {
   "cell_type": "code",
   "execution_count": 8,
   "metadata": {},
   "outputs": [
    {
     "name": "stdout",
     "output_type": "stream",
     "text": [
      "CASE I\n",
      "a is bigger\n",
      "---------------------------\n",
      "\n",
      "CASE II\n",
      "a is bigger\n",
      "---------------------------\n",
      "\n",
      "CASE III\n",
      "b is bigger\n"
     ]
    }
   ],
   "source": [
    "#Tuple  Comparing\n",
    "'''The comparison starts with a first element of each tuple. \n",
    "   If they do not compare to =,< or > then it proceed to the second element and so on'''\n",
    "\n",
    "print('CASE I')    \n",
    "a=(5,6)\n",
    "b=(1,4)\n",
    "if (a>b):\n",
    "    print(\"a is bigger\")\n",
    "else: \n",
    "    print(\"b is bigger\")\n",
    "    \n",
    "print('---------------------------\\n')\n",
    "print('CASE II')    \n",
    "\n",
    "a=(5,6)\n",
    "b=(5,4)\n",
    "if (a>b):\n",
    "    print(\"a is bigger\")\n",
    "else: \n",
    "    print (\"b is bigger\")\n",
    "\n",
    "print('---------------------------\\n')    \n",
    "print('CASE III')    \n",
    "a=(5,6)\n",
    "b=(6,4)\n",
    "if (a>b):\n",
    "    print(\"a is bigger\")\n",
    "else: \n",
    "    print(\"b is bigger\")"
   ]
  }
 ],
 "metadata": {
  "kernelspec": {
   "display_name": "Python 3",
   "language": "python",
   "name": "python3"
  },
  "language_info": {
   "codemirror_mode": {
    "name": "ipython",
    "version": 3
   },
   "file_extension": ".py",
   "mimetype": "text/x-python",
   "name": "python",
   "nbconvert_exporter": "python",
   "pygments_lexer": "ipython3",
   "version": "3.7.4"
  }
 },
 "nbformat": 4,
 "nbformat_minor": 2
}
