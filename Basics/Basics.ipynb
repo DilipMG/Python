{
 "cells": [
  {
   "cell_type": "code",
   "execution_count": 1,
   "metadata": {},
   "outputs": [
    {
     "data": {
      "text/plain": [
       "2"
      ]
     },
     "execution_count": 1,
     "metadata": {},
     "output_type": "execute_result"
    }
   ],
   "source": [
    "a=2\n",
    "a"
   ]
  },
  {
   "cell_type": "code",
   "execution_count": 2,
   "metadata": {},
   "outputs": [
    {
     "data": {
      "text/plain": [
       "'piliD'"
      ]
     },
     "execution_count": 2,
     "metadata": {},
     "output_type": "execute_result"
    }
   ],
   "source": [
    "string = 'Dilip'\n",
    "\n",
    "string[-1:-6:-1]"
   ]
  },
  {
   "cell_type": "code",
   "execution_count": 3,
   "metadata": {},
   "outputs": [
    {
     "data": {
      "text/plain": [
       "'Dlp'"
      ]
     },
     "execution_count": 3,
     "metadata": {},
     "output_type": "execute_result"
    }
   ],
   "source": [
    "string[0:6:2]"
   ]
  },
  {
   "cell_type": "code",
   "execution_count": 9,
   "metadata": {},
   "outputs": [
    {
     "name": "stdout",
     "output_type": "stream",
     "text": [
      "Enter num1:4\n",
      "Enter num2:3\n",
      "\n",
      "Exponential of 4 and 3 is 64\n",
      "Division of 4 and 3 is 1.3333333333333333\n",
      "Floor Division of 4 and 3 is 1\n"
     ]
    }
   ],
   "source": [
    "#Arithmatic Operators\n",
    "\n",
    "num1 = int(input(\"Enter num1:\"))\n",
    "num2 = int(input(\"Enter num2:\"))\n",
    "\n",
    "print('\\nSum of {} and {} is {}'.format(num1, num2, num1+num2))\n",
    "print('Exponential of {} and {} is {}'.format(num1, num2, num1**num2))\n",
    "print('Division of {} and {} is {}'.format(num1, num2, num1/num2))\n",
    "print('Floor Division of {} and {} is {}'.format(num1, num2, num1//num2))"
   ]
  },
  {
   "cell_type": "code",
   "execution_count": 10,
   "metadata": {},
   "outputs": [
    {
     "data": {
      "text/plain": [
       "20"
      ]
     },
     "execution_count": 10,
     "metadata": {},
     "output_type": "execute_result"
    }
   ],
   "source": [
    "#Assignment\n",
    "\n",
    "value = 10 \n",
    "value +=10\n",
    "\n",
    "value"
   ]
  },
  {
   "cell_type": "code",
   "execution_count": 11,
   "metadata": {},
   "outputs": [
    {
     "name": "stdout",
     "output_type": "stream",
     "text": [
      "False\n",
      "True\n"
     ]
    }
   ],
   "source": [
    "#Relation -> # == != > < <= >=\n",
    "\n",
    "a=10\n",
    "b=20\n",
    "\n",
    "print(a == b)\n",
    "print(a < b)"
   ]
  },
  {
   "cell_type": "code",
   "execution_count": 13,
   "metadata": {},
   "outputs": [
    {
     "name": "stdout",
     "output_type": "stream",
     "text": [
      "False\n",
      "True\n"
     ]
    }
   ],
   "source": [
    "#Logical      and or \n",
    "\n",
    "a=4\n",
    "b=3\n",
    "print(a <= b and a == b)\n",
    "print(a == b or  a > b)\n",
    "\n"
   ]
  },
  {
   "cell_type": "code",
   "execution_count": 19,
   "metadata": {},
   "outputs": [
    {
     "name": "stdout",
     "output_type": "stream",
     "text": [
      "False\n",
      "False\n",
      "True\n",
      "True\n",
      "True\n",
      "True\n",
      "True\n"
     ]
    }
   ],
   "source": [
    "#Identity       is\n",
    "\n",
    "name = 'Dilip'\n",
    "Name = 'dilip'\n",
    "\n",
    "print(name is Name)\n",
    "print(name == Name)\n",
    "print(name is not Name)\n",
    "print(not name == Name)\n",
    "print(not name is Name)\n",
    "print(name[1:5] == Name[1:5])\n",
    "print(name[1:5] in Name[1:5])\n"
   ]
  },
  {
   "cell_type": "code",
   "execution_count": null,
   "metadata": {},
   "outputs": [],
   "source": []
  }
 ],
 "metadata": {
  "kernelspec": {
   "display_name": "Python 3",
   "language": "python",
   "name": "python3"
  },
  "language_info": {
   "codemirror_mode": {
    "name": "ipython",
    "version": 3
   },
   "file_extension": ".py",
   "mimetype": "text/x-python",
   "name": "python",
   "nbconvert_exporter": "python",
   "pygments_lexer": "ipython3",
   "version": "3.7.4"
  }
 },
 "nbformat": 4,
 "nbformat_minor": 2
}
