{
 "cells": [
  {
   "cell_type": "markdown",
   "metadata": {},
   "source": [
    "# Iterators"
   ]
  },
  {
   "cell_type": "code",
   "execution_count": 1,
   "metadata": {},
   "outputs": [
    {
     "name": "stdout",
     "output_type": "stream",
     "text": [
      "0\n",
      "2\n",
      "4\n",
      "6\n",
      "8\n",
      "10\n",
      "12\n",
      "14\n",
      "16\n",
      "18\n",
      "20\n",
      "22\n",
      "24\n",
      "26\n",
      "28\n",
      "30\n",
      "32\n",
      "34\n",
      "36\n",
      "38\n",
      "40\n",
      "42\n",
      "44\n",
      "46\n",
      "48\n",
      "50\n",
      "52\n",
      "54\n",
      "56\n",
      "58\n",
      "60\n",
      "62\n",
      "64\n",
      "66\n",
      "68\n",
      "70\n",
      "72\n",
      "74\n",
      "76\n",
      "78\n",
      "80\n",
      "82\n",
      "84\n",
      "86\n",
      "88\n",
      "90\n",
      "92\n",
      "94\n",
      "96\n",
      "98\n",
      "100\n"
     ]
    }
   ],
   "source": [
    "class Number:\n",
    "    def __iter__(self):\n",
    "        self.number=0\n",
    "        return self\n",
    "    \n",
    "    def __next__(self):\n",
    "        if self.number <=100:\n",
    "            x=self.number\n",
    "            self.number+=2\n",
    "            return x\n",
    "        else:\n",
    "            raise StopIteration\n",
    "    \n",
    "infinite = Number()\n",
    "for x in infinite:\n",
    "    print(x)"
   ]
  },
  {
   "cell_type": "markdown",
   "metadata": {},
   "source": [
    "# Pickling"
   ]
  },
  {
   "cell_type": "code",
   "execution_count": 2,
   "metadata": {},
   "outputs": [
    {
     "data": {
      "text/plain": [
       "'Saving the data is called Serialisation         (Data to Bytes)    Dump() \\n\\n   Loading the data back is called Deserialisation (Bytes to Data)    Load()'"
      ]
     },
     "execution_count": 2,
     "metadata": {},
     "output_type": "execute_result"
    }
   ],
   "source": [
    "'''Saving the data is called Serialisation         (Data to Bytes)    Dump() \\n\n",
    "   Loading the data back is called Deserialisation (Bytes to Data)    Load()'''"
   ]
  },
  {
   "cell_type": "code",
   "execution_count": 3,
   "metadata": {},
   "outputs": [],
   "source": [
    "import pickle\n",
    "\n",
    "results={'A':102,\n",
    "         'B':103,\n",
    "         'C':340}"
   ]
  },
  {
   "cell_type": "code",
   "execution_count": 4,
   "metadata": {},
   "outputs": [],
   "source": [
    "#Serilisation\n",
    "f = open('Pickle.txt','wb')\n",
    "pickle.dump(results,f)\n",
    "            \n",
    "f.close()"
   ]
  },
  {
   "cell_type": "code",
   "execution_count": 5,
   "metadata": {},
   "outputs": [
    {
     "name": "stdout",
     "output_type": "stream",
     "text": [
      "{'A': 102, 'B': 103, 'C': 340}\n",
      "<class 'dict'>\n"
     ]
    }
   ],
   "source": [
    "#Deserialisation\n",
    "\n",
    "f = open('Pickle.txt','rb')\n",
    "new_results=pickle.load(f)\n",
    "f.close()\n",
    "\n",
    "print(new_results)\n",
    "print(type(new_results))"
   ]
  },
  {
   "cell_type": "markdown",
   "metadata": {},
   "source": [
    "# JSON"
   ]
  },
  {
   "cell_type": "code",
   "execution_count": 6,
   "metadata": {},
   "outputs": [],
   "source": [
    "import json\n",
    "\n",
    "results={'A':102,\n",
    "         'B':103,\n",
    "         'C':340}"
   ]
  },
  {
   "cell_type": "code",
   "execution_count": 7,
   "metadata": {},
   "outputs": [],
   "source": [
    "#Serilisation\n",
    "f = open('Test.json','w')\n",
    "json.dump(results,f)\n",
    "            \n",
    "f.close()"
   ]
  },
  {
   "cell_type": "code",
   "execution_count": 8,
   "metadata": {},
   "outputs": [
    {
     "name": "stdout",
     "output_type": "stream",
     "text": [
      "{'A': 102, 'B': 103, 'C': 340}\n",
      "<class 'dict'>\n"
     ]
    }
   ],
   "source": [
    "#Deserialisation\n",
    "\n",
    "f = open('Test.json','r')\n",
    "new_result1=json.load(f)\n",
    "f.close()\n",
    "\n",
    "print(new_result1)\n",
    "print(type(new_result1))"
   ]
  },
  {
   "cell_type": "markdown",
   "metadata": {},
   "source": [
    "# Regular Expressions"
   ]
  },
  {
   "cell_type": "markdown",
   "metadata": {},
   "source": [
    "#RegEx"
   ]
  },
  {
   "cell_type": "code",
   "execution_count": 9,
   "metadata": {},
   "outputs": [],
   "source": [
    "#findall, search, split, sub\n",
    "\n",
    "import re\n",
    "text='Mumbai has painful trains and more painful drains when it rains'\n",
    "pattern='rain'"
   ]
  },
  {
   "cell_type": "code",
   "execution_count": 10,
   "metadata": {},
   "outputs": [
    {
     "name": "stdout",
     "output_type": "stream",
     "text": [
      "Findall : ['rain', 'rain', 'rain']\n"
     ]
    }
   ],
   "source": [
    "x1=re.findall(pattern,text)\n",
    "print(f'Findall : {x1}')"
   ]
  },
  {
   "cell_type": "code",
   "execution_count": 11,
   "metadata": {},
   "outputs": [
    {
     "name": "stdout",
     "output_type": "stream",
     "text": [
      "split : ['Mumbai has painful t', 's and more painful d', 's when it ', 's']\n",
      "\n",
      "split : ['Mumbai has painful t', 's and more painful drains when it rains']\n"
     ]
    }
   ],
   "source": [
    "x2=re.split(pattern,text)\n",
    "print(f'split : {x2}')\n",
    "\n",
    "x2=re.split(pattern,text,1)\n",
    "print(f'\\nsplit : {x2}')"
   ]
  },
  {
   "cell_type": "code",
   "execution_count": 12,
   "metadata": {},
   "outputs": [
    {
     "name": "stdout",
     "output_type": "stream",
     "text": [
      "sub : Mumbai has painful tRAINs and more painful dRAINs when it RAINs\n",
      "\n",
      "sub : Mumbai has painful tRAINs and more painful drains when it rains\n"
     ]
    }
   ],
   "source": [
    "x3=re.sub(pattern,'RAIN',text)\n",
    "print(f'sub : {x3}')\n",
    "x3=re.sub(pattern,'RAIN',text,1)\n",
    "print(f'\\nsub : {x3}')"
   ]
  },
  {
   "cell_type": "code",
   "execution_count": 13,
   "metadata": {},
   "outputs": [
    {
     "name": "stdout",
     "output_type": "stream",
     "text": [
      "search : <re.Match object; span=(20, 24), match='rain'>\n",
      "(20, 24)\n",
      "Mumbai has painful trains and more painful drains when it rains\n",
      "<built-in method groups of re.Match object at 0x000001CE56F90DC0>\n"
     ]
    }
   ],
   "source": [
    "x4=re.search(pattern,text)\n",
    "print(f'search : {x4}')\n",
    "print(x4.span())\n",
    "print(x4.string)\n",
    "print(x4.groups)"
   ]
  },
  {
   "cell_type": "code",
   "execution_count": null,
   "metadata": {},
   "outputs": [],
   "source": []
  }
 ],
 "metadata": {
  "kernelspec": {
   "display_name": "Python 3",
   "language": "python",
   "name": "python3"
  },
  "language_info": {
   "codemirror_mode": {
    "name": "ipython",
    "version": 3
   },
   "file_extension": ".py",
   "mimetype": "text/x-python",
   "name": "python",
   "nbconvert_exporter": "python",
   "pygments_lexer": "ipython3",
   "version": "3.7.4"
  }
 },
 "nbformat": 4,
 "nbformat_minor": 2
}
