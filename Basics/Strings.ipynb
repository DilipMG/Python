{
 "cells": [
  {
   "cell_type": "code",
   "execution_count": 6,
   "metadata": {},
   "outputs": [
    {
     "name": "stdout",
     "output_type": "stream",
     "text": [
      "var1[0]: D\n",
      "var2[1:5]: oftw\n",
      "i\n",
      "Dilip! Dilip! \n",
      "Dilip! Software Testing\n"
     ]
    }
   ],
   "source": [
    "var1 = \"Dilip! \"\n",
    "var2 = \"Software Testing\"\n",
    "print (\"var1[0]:\",var1[0])\n",
    "print (\"var2[1:5]:\",var2[1:5])\n",
    "print (var1[1])\n",
    "print (var1*2)\n",
    "print (var1+var2)"
   ]
  },
  {
   "cell_type": "code",
   "execution_count": 9,
   "metadata": {},
   "outputs": [
    {
     "name": "stdout",
     "output_type": "stream",
     "text": [
      "Old String is: I like Dilip\n",
      "New String is: I love Dilip\n"
     ]
    }
   ],
   "source": [
    "# replace ()\n",
    "\n",
    "oldstring = 'I like Dilip' \n",
    "print('Old String is:', oldstring)\n",
    "newstring = oldstring.replace('like', 'love')\n",
    "print('New String is:', newstring)"
   ]
  },
  {
   "cell_type": "code",
   "execution_count": 13,
   "metadata": {},
   "outputs": [
    {
     "name": "stdout",
     "output_type": "stream",
     "text": [
      "Upper case string is : I LIKE DILIP\n",
      "Capitalize string is : I like dilip\n",
      "Lower case string is : i like dilip\n"
     ]
    }
   ],
   "source": [
    "# case converion\n",
    "\n",
    "oldstring = 'I like Dilip' \n",
    "print(\"Upper case string is :\",oldstring.upper())\n",
    "print(\"Capitalize string is :\",oldstring.capitalize())\n",
    "print(\"Lower case string is :\",oldstring.lower())"
   ]
  },
  {
   "cell_type": "code",
   "execution_count": 16,
   "metadata": {},
   "outputs": [
    {
     "name": "stdout",
     "output_type": "stream",
     "text": [
      "P:y:t:h:o:n\n"
     ]
    }
   ],
   "source": [
    "# Join\n",
    "\n",
    "print(\":\".join(\"Python\"))"
   ]
  },
  {
   "cell_type": "code",
   "execution_count": 17,
   "metadata": {},
   "outputs": [
    {
     "name": "stdout",
     "output_type": "stream",
     "text": [
      "piliD ekil I\n"
     ]
    }
   ],
   "source": [
    "#Reversed \n",
    "\n",
    "oldstring = 'I like Dilip' \n",
    "print(''.join(reversed(oldstring)))"
   ]
  },
  {
   "cell_type": "code",
   "execution_count": 20,
   "metadata": {},
   "outputs": [
    {
     "name": "stdout",
     "output_type": "stream",
     "text": [
      "['I', 'like', 'Dilip']\n",
      "['I li', 'e Dilip']\n"
     ]
    }
   ],
   "source": [
    "#Split \n",
    "\n",
    "oldstring = 'I like Dilip' \n",
    "print(oldstring.split(\" \"))\n",
    "print(oldstring.split(\"k\"))\n"
   ]
  },
  {
   "cell_type": "code",
   "execution_count": 22,
   "metadata": {},
   "outputs": [
    {
     "name": "stdout",
     "output_type": "stream",
     "text": [
      "Welcome to India!\n"
     ]
    }
   ],
   "source": [
    "#Strip \n",
    "\n",
    "str1 = \"Welcome to India!\"\n",
    "after_strip = str1.strip()\n",
    "print(after_strip)"
   ]
  },
  {
   "cell_type": "code",
   "execution_count": null,
   "metadata": {},
   "outputs": [],
   "source": []
  }
 ],
 "metadata": {
  "kernelspec": {
   "display_name": "Python 3",
   "language": "python",
   "name": "python3"
  },
  "language_info": {
   "codemirror_mode": {
    "name": "ipython",
    "version": 3
   },
   "file_extension": ".py",
   "mimetype": "text/x-python",
   "name": "python",
   "nbconvert_exporter": "python",
   "pygments_lexer": "ipython3",
   "version": "3.7.4"
  }
 },
 "nbformat": 4,
 "nbformat_minor": 2
}
