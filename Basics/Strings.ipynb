{
 "cells": [
  {
   "cell_type": "code",
   "execution_count": 1,
   "metadata": {},
   "outputs": [
    {
     "name": "stdout",
     "output_type": "stream",
     "text": [
      "var1[0]: D\n",
      "var2[1:5]: oftw\n",
      "i\n",
      "Dilip! Dilip! \n",
      "Dilip! Software Testing\n"
     ]
    }
   ],
   "source": [
    "var1 = \"Dilip! \"\n",
    "var2 = \"Software Testing\"\n",
    "print (\"var1[0]:\",var1[0])\n",
    "print (\"var2[1:5]:\",var2[1:5])\n",
    "print (var1[1])\n",
    "print (var1*2)\n",
    "print (var1+var2)"
   ]
  },
  {
   "cell_type": "code",
   "execution_count": 2,
   "metadata": {},
   "outputs": [
    {
     "name": "stdout",
     "output_type": "stream",
     "text": [
      "Old String is: I like Dilip\n",
      "New String is: I love Dilip\n"
     ]
    }
   ],
   "source": [
    "# replace ()\n",
    "\n",
    "oldstring = 'I like Dilip' \n",
    "print('Old String is:', oldstring)\n",
    "newstring = oldstring.replace('like', 'love')\n",
    "print('New String is:', newstring)"
   ]
  },
  {
   "cell_type": "code",
   "execution_count": 3,
   "metadata": {},
   "outputs": [
    {
     "name": "stdout",
     "output_type": "stream",
     "text": [
      "Upper case string is : I LIKE DILIP\n",
      "Capitalize string is : I like dilip\n",
      "Lower case string is : i like dilip\n"
     ]
    }
   ],
   "source": [
    "# case converion\n",
    "\n",
    "oldstring = 'I like Dilip' \n",
    "print(\"Upper case string is :\",oldstring.upper())\n",
    "print(\"Capitalize string is :\",oldstring.capitalize())\n",
    "print(\"Lower case string is :\",oldstring.lower())"
   ]
  },
  {
   "cell_type": "code",
   "execution_count": 4,
   "metadata": {},
   "outputs": [
    {
     "name": "stdout",
     "output_type": "stream",
     "text": [
      "P:y:t:h:o:n\n"
     ]
    }
   ],
   "source": [
    "# Join\n",
    "\n",
    "print(\":\".join(\"Python\"))"
   ]
  },
  {
   "cell_type": "code",
   "execution_count": 5,
   "metadata": {},
   "outputs": [
    {
     "name": "stdout",
     "output_type": "stream",
     "text": [
      "piliD ekil I\n"
     ]
    }
   ],
   "source": [
    "#Reversed \n",
    "\n",
    "oldstring = 'I like Dilip' \n",
    "print(''.join(reversed(oldstring)))"
   ]
  },
  {
   "cell_type": "code",
   "execution_count": 6,
   "metadata": {},
   "outputs": [
    {
     "name": "stdout",
     "output_type": "stream",
     "text": [
      "['I', 'like', 'Dilip']\n",
      "['I li', 'e Dilip']\n"
     ]
    }
   ],
   "source": [
    "#Split \n",
    "\n",
    "oldstring = 'I like Dilip' \n",
    "print(oldstring.split(\" \"))\n",
    "print(oldstring.split(\"k\"))\n"
   ]
  },
  {
   "cell_type": "code",
   "execution_count": 7,
   "metadata": {},
   "outputs": [
    {
     "name": "stdout",
     "output_type": "stream",
     "text": [
      "Welcome to India!\n"
     ]
    }
   ],
   "source": [
    "#Strip \n",
    "\n",
    "str1 = \"Welcome to India!\"\n",
    "after_strip = str1.strip()\n",
    "print(after_strip)"
   ]
  },
  {
   "cell_type": "code",
   "execution_count": 8,
   "metadata": {},
   "outputs": [
    {
     "name": "stdout",
     "output_type": "stream",
     "text": [
      "The count of 'o' is 2\n",
      "The count of 'o' usingstart/end is 1\n"
     ]
    }
   ],
   "source": [
    "#Count \n",
    "\n",
    "str1 = \"Welcome to India!\"\n",
    "str_count1 = str1.count('o')  # counting the character “o” in the givenstring\n",
    "print(\"The count of 'o' is\", str_count1)\n",
    "\n",
    "str_count2 = str1.count('o', 0,8)\n",
    "print(\"The count of 'o' usingstart/end is\", str_count2)"
   ]
  },
  {
   "cell_type": "code",
   "execution_count": 9,
   "metadata": {},
   "outputs": [
    {
     "name": "stdout",
     "output_type": "stream",
     "text": [
      "Welcome to Dilip Tutorials\n",
      "Welcome to Dilip Tutorials,Bengaluru\n",
      "Welcome to Dilip Tutorials,Bengaluru\n",
      "Welcome to Bengaluru Tutorials by Dilip\n"
     ]
    }
   ],
   "source": [
    "#format\n",
    "\n",
    "print (\"Welcome to {} Tutorials\".format(\"Dilip\"))\n",
    "print (\"Welcome to {name} Tutorials,{location}\".format(name=\"Dilip\", location=\"Bengaluru\"))\n",
    "print (\"Welcome to {0} Tutorials,{1}\".format(\"Dilip\", \"Bengaluru\"))\n",
    "print (\"Welcome to {1} Tutorials by {0}\".format(\"Dilip\", \"Bengaluru\"))"
   ]
  },
  {
   "cell_type": "code",
   "execution_count": 10,
   "metadata": {},
   "outputs": [
    {
     "name": "stdout",
     "output_type": "stream",
     "text": [
      "The binary to decimal value is : 3\n",
      "The binary value is : 111110100\n",
      "The scientific value is : 4.000000e+01\n",
      "The scientific value is : 4.000000E+01\n",
      "The value is : 40.000000\n",
      "The value is : 40.00\n",
      "The value is : 12\n",
      "The value is : 1f4\n",
      "The value is : 500.4\n",
      "The value is : 80.000000%\n",
      "The value is : 1,000,000\n",
      "The value is:    40\n",
      "The value is -40\n",
      "The value is +40\n",
      "The value is -40\n",
      "\n",
      " Welcome to Dilip Tutorials!\n",
      "\n"
     ]
    }
   ],
   "source": [
    "#format for numbers\n",
    "\n",
    "print(\"The binary to decimal value is : {:d}\".format(0b0011))      #decimal value of Binary number\n",
    "print(\"The binary value is : {:b}\".format(500))                    #binary number of 500\n",
    "print(\"The scientific value is : {:e}\".format(40))                 #exponential of 40 \n",
    "print(\"The scientific value is : {:E}\".format(40))                 \n",
    "print(\"The value is : {:f}\".format(40))                            #float of 40 \n",
    "print(\"The value is : {:.2f}\".format(40))                          #float of 40 limited to 2 decimal points\n",
    "print(\"The value is : {:o}\".format(10))                            #octal value of 10\n",
    "print(\"The value is : {:x}\".format(500))                           #hexadecimal of 500\n",
    "print(\"The value is : {:n}\".format(500.40))                        #Number format of 500.4\n",
    "print(\"The value is : {:%}\".format(0.80))                          #this will display in % format\n",
    "print(\"The value is : {:,}\".format(1000000))                       # , as spearator for number in 1000 format\n",
    "print(\"The value is: {:5}\".format(40))                             # will add 5 spaces before the number\n",
    "print(\"The value is {:=}\".format(-40))\n",
    "print(\"The value is {:+}\".format(+40))\n",
    "print(\"The value is {:-}\".format(-40))\n",
    "\n",
    "'''format for dictionary'''\n",
    "\n",
    "my_dict = {'msg1': \"Welcome\", 'msg2': 'Dilip'}\n",
    "print(\"\\n {m[msg1]} to {m[msg2]} Tutorials!\\n\".format(m=my_dict))"
   ]
  },
  {
   "cell_type": "code",
   "execution_count": 11,
   "metadata": {},
   "outputs": [
    {
     "name": "stdout",
     "output_type": "stream",
     "text": [
      "The length of the string is : 33\n",
      "The length of the list is   : 4\n",
      "The length of the tuple is  : 3\n",
      "The length of the Dict is   : 4\n"
     ]
    }
   ],
   "source": [
    "#len\n",
    "\n",
    "str1 = \"Welcome to Dilip Python Tutorials\"\n",
    "print(\"The length of the string is :\", len(str1))\n",
    "\n",
    "# to find the length of the list\n",
    "list1 = [\"Dilip\",\"Pradeep\",\"Tom\",\"Rob\"]\n",
    "print(\"The length of the list is   :\", len(list1))\n",
    "\n",
    "# to find the length of the tuple\n",
    "Tup = ('Jan','feb','march')\n",
    "print(\"The length of the tuple is  :\", len(Tup))\n",
    "\n",
    "# to find the length of the dict\n",
    "dict1 = {\"Dilip\":32,\"Pradeep\":30,\"Tom\":32,\"Rob\":31}\n",
    "print(\"The length of the Dict is   :\", len(list1))"
   ]
  },
  {
   "cell_type": "code",
   "execution_count": 12,
   "metadata": {},
   "outputs": [
    {
     "name": "stdout",
     "output_type": "stream",
     "text": [
      "The position of 'Dilip' from find is at          : 11\n",
      "The position of 'Dilip' from rfind is at         : 35\n",
      "The position of 'Dilip' after 20th position is at: 35\n",
      "The position of 'Dilip' after 40th position is at: -1\n"
     ]
    }
   ],
   "source": [
    "#find\n",
    "\n",
    "str1 = \"Welcome to Dilip Python Tutorials. Dilip is Trainer here\"\n",
    "print(\"The position of 'Dilip' from find is at          :\", str1.find(\"Dilip\"))        #diaplays the first occuarnce\n",
    "print(\"The position of 'Dilip' from rfind is at         :\", str1.rfind(\"Dilip\"))       #displays the last ocurance\n",
    "print(\"The position of 'Dilip' after 20th position is at:\", str1.find(\"Dilip\",20))\n",
    "print(\"The position of 'Dilip' after 40th position is at:\", str1.find(\"Dilip\",40))     #displays -1 if no string found"
   ]
  },
  {
   "cell_type": "code",
   "execution_count": null,
   "metadata": {},
   "outputs": [],
   "source": []
  }
 ],
 "metadata": {
  "kernelspec": {
   "display_name": "Python 3",
   "language": "python",
   "name": "python3"
  },
  "language_info": {
   "codemirror_mode": {
    "name": "ipython",
    "version": 3
   },
   "file_extension": ".py",
   "mimetype": "text/x-python",
   "name": "python",
   "nbconvert_exporter": "python",
   "pygments_lexer": "ipython3",
   "version": "3.7.4"
  }
 },
 "nbformat": 4,
 "nbformat_minor": 2
}
