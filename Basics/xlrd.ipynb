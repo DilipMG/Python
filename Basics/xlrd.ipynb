{
 "cells": [
  {
   "cell_type": "code",
   "execution_count": null,
   "metadata": {},
   "outputs": [],
   "source": [
    "import xlrd\n",
    "ld = xlrd.open_workbook(\"LoginDetails.xls\")\n",
    "sheet = ld.sheet_by_index(0)\n",
    "\n",
    "print(sheet.nrows)     # no of rows\n",
    "print(sheet.ncols)     # no of columns\n",
    "\n",
    "print('***********************************************************************************************************************')\n",
    "print(sheet.cell_value(0,0))    #Prints  cell\n",
    "print(sheet.row_values(0))      #prints 0th row data\n",
    "print(sheet.col_values(0))      #prints 0th column data\n",
    "print('***********************************************************************************************************************')\n",
    "\n",
    "for x in range(sheet.nrows):\n",
    "    print(sheet.row_values(x))"
   ]
  }
 ],
 "metadata": {
  "kernelspec": {
   "display_name": "Python 3",
   "language": "python",
   "name": "python3"
  },
  "language_info": {
   "codemirror_mode": {
    "name": "ipython",
    "version": 3
   },
   "file_extension": ".py",
   "mimetype": "text/x-python",
   "name": "python",
   "nbconvert_exporter": "python",
   "pygments_lexer": "ipython3",
   "version": "3.7.4"
  }
 },
 "nbformat": 4,
 "nbformat_minor": 2
}
