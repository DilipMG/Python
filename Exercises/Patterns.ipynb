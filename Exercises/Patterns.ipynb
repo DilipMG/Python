{
 "cells": [
  {
   "cell_type": "code",
   "execution_count": 1,
   "metadata": {},
   "outputs": [],
   "source": [
    "n=6"
   ]
  },
  {
   "cell_type": "code",
   "execution_count": 2,
   "metadata": {},
   "outputs": [],
   "source": [
    "#problem-1\n",
    "#*\n",
    "#**\n",
    "#***\n",
    "#****\n",
    "\n",
    "for x in range (1, n+1):\n",
    "    print (x * '*')"
   ]
  },
  {
   "cell_type": "code",
   "execution_count": 3,
   "metadata": {},
   "outputs": [
    {
     "name": "stdout",
     "output_type": "stream",
     "text": [
      "******\n",
      "*****\n",
      "****\n",
      "***\n",
      "**\n",
      "*\n"
     ]
    }
   ],
   "source": [
    "#Problem-2\n",
    "#****\n",
    "#***\n",
    "#**\n",
    "#*\n",
    "\n",
    "for x in range (1, n+1):\n",
    "    print (((n+1)-x) * '*')"
   ]
  },
  {
   "cell_type": "code",
   "execution_count": 4,
   "metadata": {},
   "outputs": [
    {
     "name": "stdout",
     "output_type": "stream",
     "text": [
      "     *\n",
      "    **\n",
      "   ***\n",
      "  ****\n",
      " *****\n",
      "******\n"
     ]
    }
   ],
   "source": [
    "#Problem-3\n",
    "#   *\n",
    "#  **\n",
    "# ***\n",
    "#****\n",
    "\n",
    "for x in range (1, n+1):\n",
    "    print ((n-x) * ' '+(x*'*'))"
   ]
  },
  {
   "cell_type": "code",
   "execution_count": 5,
   "metadata": {},
   "outputs": [
    {
     "name": "stdout",
     "output_type": "stream",
     "text": [
      "1\n",
      "2*\n",
      "3**\n",
      "4***\n",
      "5****\n",
      "6*****\n"
     ]
    }
   ],
   "source": [
    "#Problem-4\n",
    "#1\n",
    "#2*\n",
    "#3**\n",
    "#4***\n",
    "    \n",
    "for x in range (1, n+1):\n",
    "    print (str(x)+((x-1) * '*'))"
   ]
  },
  {
   "cell_type": "code",
   "execution_count": 6,
   "metadata": {},
   "outputs": [
    {
     "name": "stdout",
     "output_type": "stream",
     "text": [
      "1\n",
      "*2\n",
      "**3\n",
      "***4\n",
      "****5\n",
      "*****6\n"
     ]
    }
   ],
   "source": [
    "#Problem-5\n",
    "#1\n",
    "#*2\n",
    "#**3\n",
    "#***4\n",
    "\n",
    "for x in range (1, n+1):\n",
    "    print (((x-1) * '*')+str(x))"
   ]
  },
  {
   "cell_type": "code",
   "execution_count": 7,
   "metadata": {},
   "outputs": [
    {
     "name": "stdout",
     "output_type": "stream",
     "text": [
      "          * \n",
      "        * * * \n",
      "      * * * * * \n",
      "    * * * * * * * \n",
      "  * * * * * * * * * \n",
      "* * * * * * * * * * * \n"
     ]
    }
   ],
   "source": [
    "#Problem-6\n",
    "#   *    CHECK\n",
    "#  * *\n",
    "# * * *\n",
    "#* * * *\n",
    "    \n",
    "k = 0\n",
    "for i in range(1, n+1):\n",
    "    for space in range(1, (n-i)+1):\n",
    "        print(end=\"  \")\n",
    "    while k != (2*i-1):\n",
    "        print(\"* \", end=\"\")\n",
    "        k = k + 1\n",
    "    k = 0\n",
    "    print()"
   ]
  },
  {
   "cell_type": "code",
   "execution_count": 8,
   "metadata": {},
   "outputs": [],
   "source": [
    "#Problem-7\n",
    "#* * * *    CHECK\n",
    "# * * *\n",
    "#  * *\n",
    "#   *\n",
    "    \n",
    "#n=int(input(\"Enter the max number of digits\"))\n",
    "#for i in range (1, n+1)\n",
    "#    print((i*x), "
   ]
  },
  {
   "cell_type": "code",
   "execution_count": 9,
   "metadata": {},
   "outputs": [
    {
     "name": "stdout",
     "output_type": "stream",
     "text": [
      "100000\n",
      "010000\n",
      "001000\n",
      "000100\n",
      "000010\n",
      "000001\n"
     ]
    }
   ],
   "source": [
    "#Problem-8\n",
    "#1000\n",
    "#0100\n",
    "#0010\n",
    "#0001\n",
    "\n",
    "for x in range (1, n+1):\n",
    "    print(\"0\"*(x-1) + \"1\"* 1 + \"0\" * (n-x))"
   ]
  },
  {
   "cell_type": "code",
   "execution_count": 10,
   "metadata": {},
   "outputs": [
    {
     "name": "stdout",
     "output_type": "stream",
     "text": [
      "100000\n",
      "110000\n",
      "111000\n",
      "111100\n",
      "111110\n",
      "111111\n"
     ]
    }
   ],
   "source": [
    "#Problem-9\n",
    "#1000\n",
    "#1100\n",
    "#1110\n",
    "#1111\n",
    "\n",
    "for x in range (1, n+1):\n",
    "    print( \"1\"* x + \"0\" * (n-x))"
   ]
  },
  {
   "cell_type": "code",
   "execution_count": 11,
   "metadata": {},
   "outputs": [
    {
     "name": "stdout",
     "output_type": "stream",
     "text": [
      "1\n",
      "22\n",
      "333\n",
      "4444\n",
      "55555\n",
      "666666\n"
     ]
    }
   ],
   "source": [
    "#Problem-10\n",
    "#1\n",
    "#22\n",
    "#333\n",
    "#4444\n",
    "\n",
    "for x in range (1, n+1):\n",
    "    print(str(x)*x)"
   ]
  },
  {
   "cell_type": "code",
   "execution_count": 12,
   "metadata": {},
   "outputs": [
    {
     "name": "stdout",
     "output_type": "stream",
     "text": [
      "1 \n",
      "2 3 \n",
      "4 5 6 \n",
      "7 8 9 10 \n",
      "11 12 13 14 15 \n",
      "16 17 18 19 20 21 \n"
     ]
    }
   ],
   "source": [
    "#Problem-11\n",
    "#1\n",
    "#23\n",
    "#456\n",
    "#78910\n",
    "num = 1\n",
    "\n",
    "for x in range (1, n+1):\n",
    "    for y in range (1, x+1):\n",
    "        print(num, end = \" \")\n",
    "        num = num + 1\n",
    "    print(\"\\r\")"
   ]
  },
  {
   "cell_type": "code",
   "execution_count": 13,
   "metadata": {},
   "outputs": [
    {
     "name": "stdout",
     "output_type": "stream",
     "text": [
      "******\n",
      "*****\n",
      "****\n",
      "***\n",
      "**\n",
      "*\n",
      "**\n",
      "***\n",
      "****\n",
      "*****\n",
      "******\n"
     ]
    }
   ],
   "source": [
    "#Problem-12\n",
    "#****\n",
    "#***\n",
    "#**\n",
    "#*\n",
    "#**\n",
    "#***\n",
    "#****\n",
    "\n",
    "for x in range (1, n+1):\n",
    "    print('*'*(n+1-x))\n",
    "    if (n-x == 0):\n",
    "        for y in range (2, n+1):\n",
    "            print('*'*y)"
   ]
  },
  {
   "cell_type": "code",
   "execution_count": null,
   "metadata": {},
   "outputs": [],
   "source": []
  }
 ],
 "metadata": {
  "kernelspec": {
   "display_name": "Python 3",
   "language": "python",
   "name": "python3"
  },
  "language_info": {
   "codemirror_mode": {
    "name": "ipython",
    "version": 3
   },
   "file_extension": ".py",
   "mimetype": "text/x-python",
   "name": "python",
   "nbconvert_exporter": "python",
   "pygments_lexer": "ipython3",
   "version": "3.7.4"
  }
 },
 "nbformat": 4,
 "nbformat_minor": 2
}
