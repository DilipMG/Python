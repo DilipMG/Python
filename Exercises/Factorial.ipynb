{
 "cells": [
  {
   "cell_type": "code",
   "execution_count": 2,
   "metadata": {},
   "outputs": [
    {
     "name": "stdout",
     "output_type": "stream",
     "text": [
      "Enter the Number to find the factorial:5\n",
      "The factorial of the number 5 is 120\n"
     ]
    }
   ],
   "source": [
    "#Python program to find factorial of a number\n",
    "\n",
    "num = int(input(\"Enter the Number to find the factorial:\"))\n",
    "\n",
    "if num < 0 :\n",
    "    print (\"Factorial is not possible for the negative number\")\n",
    "else:\n",
    "    for i in range (1,num+1):\n",
    "          if i == 1:\n",
    "             num1 = 1\n",
    "          else:\n",
    "             num1 = num1*i\n",
    "    print (\"The factorial of the number\", num, \"is\", num1)\n",
    "          \n"
   ]
  },
  {
   "cell_type": "code",
   "execution_count": null,
   "metadata": {},
   "outputs": [],
   "source": []
  }
 ],
 "metadata": {
  "kernelspec": {
   "display_name": "Python 3",
   "language": "python",
   "name": "python3"
  },
  "language_info": {
   "codemirror_mode": {
    "name": "ipython",
    "version": 3
   },
   "file_extension": ".py",
   "mimetype": "text/x-python",
   "name": "python",
   "nbconvert_exporter": "python",
   "pygments_lexer": "ipython3",
   "version": "3.7.4"
  }
 },
 "nbformat": 4,
 "nbformat_minor": 2
}
