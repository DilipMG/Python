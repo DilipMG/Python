{
 "cells": [
  {
   "cell_type": "code",
   "execution_count": 1,
   "metadata": {},
   "outputs": [
    {
     "name": "stdout",
     "output_type": "stream",
     "text": [
      "Enter the input string:Dilip\n",
      "['d', 'i', 'l', 'i', 'p']\n",
      "['p', 'i', 'l', 'i', 'd']\n",
      "Input string is not Palindrome!!\n"
     ]
    }
   ],
   "source": [
    "#Program to find  whether string is Palindrome or not\n",
    "\n",
    "Str = input (\"Enter the input string:\")\n",
    "\n",
    "Str = Str.casefold()\n",
    "\n",
    "Str_Rev = reversed(Str)\n",
    "\n",
    "print(list(Str))\n",
    "print(list(Str_Rev))\n",
    "\n",
    "if list(Str) == list(Str_Rev):\n",
    "    print (\"Input string is Palindrome!!\")\n",
    "else:\n",
    "    print (\"Input string is not Palindrome!!\")"
   ]
  },
  {
   "cell_type": "code",
   "execution_count": null,
   "metadata": {},
   "outputs": [],
   "source": []
  }
 ],
 "metadata": {
  "kernelspec": {
   "display_name": "Python 3",
   "language": "python",
   "name": "python3"
  },
  "language_info": {
   "codemirror_mode": {
    "name": "ipython",
    "version": 3
   },
   "file_extension": ".py",
   "mimetype": "text/x-python",
   "name": "python",
   "nbconvert_exporter": "python",
   "pygments_lexer": "ipython3",
   "version": "3.7.4"
  }
 },
 "nbformat": 4,
 "nbformat_minor": 2
}
