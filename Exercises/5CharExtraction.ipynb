{
 "cells": [
  {
   "cell_type": "code",
   "execution_count": 1,
   "metadata": {},
   "outputs": [
    {
     "name": "stdout",
     "output_type": "stream",
     "text": [
      "Enter the number of Objects in List:4\n",
      "Enter the list first Object:Dilip\n",
      "Enter the next list Object:Bob\n",
      "Enter the next list Object:Johnson\n",
      "Enter the next list Object:honey\n",
      "The input list is: ['Dilip', 'Bob', 'Johnson', 'honey']\n",
      "\n",
      "The elements with 5 characters with Lambda Function: ['Dilip', 'honey']\n",
      "The elements with 5 characters with Yield Function:\n",
      "Dilip\n",
      "honey\n",
      "The elements with 5 characters with List Comprehension:\n",
      "['Dilip', 'honey']\n"
     ]
    }
   ],
   "source": [
    "'''Program to extract the 5 characters values from List'''\n",
    "\n",
    "n = int(input(\"Enter the number of Objects in List:\"))\n",
    "List1 = []\n",
    "List1.append (input(\"Enter the list first Object:\"))\n",
    "for i in range (0,n-1):\n",
    "    List1.append (input(\"Enter the next list Object:\"))\n",
    "print(\"The input list is:\",List1)\n",
    "\n",
    "# Using Lamdba function\n",
    "print (\"\\nThe elements with 5 characters with Lambda Function:\",(list(filter(lambda a: len(a) == 5,List1))))\n",
    "\n",
    "# Using Yield function\n",
    "def FiveChar(List1):\n",
    "    for item in List1:\n",
    "        if len(item) == 5:\n",
    "            yield item  \n",
    "\n",
    "print (\"The elements with 5 characters with Yield Function:\")\n",
    "\n",
    "\n",
    "for x in FiveChar(List1):\n",
    "    print (x)\n",
    "\n",
    "# Using List comprehension\n",
    "r=[item for item in List1 if len(item) == 5]\n",
    "print (\"The elements with 5 characters with List Comprehension:\")\n",
    "print(r)"
   ]
  },
  {
   "cell_type": "code",
   "execution_count": null,
   "metadata": {},
   "outputs": [],
   "source": []
  }
 ],
 "metadata": {
  "kernelspec": {
   "display_name": "Python 3",
   "language": "python",
   "name": "python3"
  },
  "language_info": {
   "codemirror_mode": {
    "name": "ipython",
    "version": 3
   },
   "file_extension": ".py",
   "mimetype": "text/x-python",
   "name": "python",
   "nbconvert_exporter": "python",
   "pygments_lexer": "ipython3",
   "version": "3.7.4"
  }
 },
 "nbformat": 4,
 "nbformat_minor": 2
}
