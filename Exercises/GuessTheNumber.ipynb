{
 "cells": [
  {
   "cell_type": "code",
   "execution_count": 1,
   "metadata": {},
   "outputs": [
    {
     "name": "stdout",
     "output_type": "stream",
     "text": [
      "Welcome to Guess the number game!!!\n",
      "Guess the number between 1 to 20!!You have 5 chances! All the best:- 10\n",
      "You just missed it! Number you entered is less than Lucky draw number. Pls try again\n",
      "Enter the number again between 1 to 20:- 15\n",
      "You just missed it! Number you entered is less than Lucky draw number. Pls try again\n",
      "Enter the number again between 1 to 20:- 18\n",
      "Oops! Number you enetered is above the Lucky draw number. Pls try again\n",
      "Enter the number again between 1 to 20:- 16\n",
      "\n",
      "\n",
      "Woooh!!! You won it.. That's the right number:::::16\n",
      "Your Score!:20\n"
     ]
    }
   ],
   "source": [
    "# Guess the number\n",
    "\n",
    "import random\n",
    "print (\"Welcome to Guess the number game!!!\")\n",
    "\n",
    "SysNumber = random.randint(1,20)\n",
    "InpNumber = int(input(\"Guess the number between 1 to 20!!You have 5 chances! All the best:- \"))\n",
    "game = \"START\"\n",
    "\n",
    "while (game == \"START\"):\n",
    "    if ( InpNumber > 0 and InpNumber < 21):\n",
    "        for i in range (0,4):\n",
    "            if (InpNumber > SysNumber):\n",
    "                print (\"Oops! Number you enetered is above the Lucky draw number. Pls try again\")\n",
    "                InpNumber = int(input(\"Enter the number again between 1 to 20:- \"))\n",
    "            elif (SysNumber > InpNumber):\n",
    "                print (\"You just missed it! Number you entered is less than Lucky draw number. Pls try again\")\n",
    "                InpNumber = int(input(\"Enter the number again between 1 to 20:- \"))\n",
    "            else:\n",
    "                print (\"\\n\")\n",
    "                print (\"Woooh!!! You won it.. That's the right number:::::\"+str(SysNumber))\n",
    "                print (\"Your Score!:\"+ str(10*(5-i)))\n",
    "                game = \"STOP\"\n",
    "                break\n",
    "        if game == \"START\":\n",
    "            print (\"\\n\")\n",
    "            print (\"You lost it :( Correct number is:\"+str(SysNumber))\n",
    "            game = \"STOP\"\n",
    "    else:\n",
    "        print (\"Entered number is not between 0 and 20. Please enter the number again to begin the Game!\")\n",
    "        InpNumber = int(input(\"Enter the number again between 1 to 20:- \"))"
   ]
  },
  {
   "cell_type": "code",
   "execution_count": null,
   "metadata": {},
   "outputs": [],
   "source": []
  }
 ],
 "metadata": {
  "kernelspec": {
   "display_name": "Python 3",
   "language": "python",
   "name": "python3"
  },
  "language_info": {
   "codemirror_mode": {
    "name": "ipython",
    "version": 3
   },
   "file_extension": ".py",
   "mimetype": "text/x-python",
   "name": "python",
   "nbconvert_exporter": "python",
   "pygments_lexer": "ipython3",
   "version": "3.7.4"
  }
 },
 "nbformat": 4,
 "nbformat_minor": 2
}
