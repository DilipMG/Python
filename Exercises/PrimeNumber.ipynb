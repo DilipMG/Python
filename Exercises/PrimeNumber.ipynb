{
 "cells": [
  {
   "cell_type": "code",
   "execution_count": 1,
   "metadata": {},
   "outputs": [
    {
     "name": "stdout",
     "output_type": "stream",
     "text": [
      "Enter the starting range:1\n",
      "Enter the ending range:10\n",
      "\n",
      "The prime numbers between 1 and 10 are:\n",
      "2\n",
      "3\n",
      "5\n",
      "7\n"
     ]
    }
   ],
   "source": [
    "#Program to display all prime numbers between the range\n",
    "\n",
    "num1 = int (input(\"Enter the starting range:\"))\n",
    "num2 = int (input(\"Enter the ending range:\"))\n",
    "\n",
    "if num1 == num2:\n",
    "    print (\"Entered range is same and hence no prime numbers!!\")\n",
    "else:\n",
    "    print(\"\\nThe prime numbers between {} and {} are:\".format(num1,num2))\n",
    "    for num in range (num1, num2+1):\n",
    "        if num > 1:\n",
    "            for i in range (2,num):\n",
    "                if (num % i) == 0:\n",
    "                    break\n",
    "            else:\n",
    "                print(num)\n",
    "            \n"
   ]
  },
  {
   "cell_type": "code",
   "execution_count": null,
   "metadata": {},
   "outputs": [],
   "source": []
  }
 ],
 "metadata": {
  "kernelspec": {
   "display_name": "Python 3",
   "language": "python",
   "name": "python3"
  },
  "language_info": {
   "codemirror_mode": {
    "name": "ipython",
    "version": 3
   },
   "file_extension": ".py",
   "mimetype": "text/x-python",
   "name": "python",
   "nbconvert_exporter": "python",
   "pygments_lexer": "ipython3",
   "version": "3.7.4"
  }
 },
 "nbformat": 4,
 "nbformat_minor": 2
}
