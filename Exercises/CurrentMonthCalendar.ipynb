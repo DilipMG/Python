{
 "cells": [
  {
   "cell_type": "code",
   "execution_count": 1,
   "metadata": {},
   "outputs": [
    {
     "name": "stdout",
     "output_type": "stream",
     "text": [
      "Current date:  2021-10-09\n",
      "\n",
      "Current year  : 2021\n",
      "Current month : 10\n",
      "Current day   : 9\n",
      "\n",
      "     October 2021\n",
      "Mo Tu We Th Fr Sa Su\n",
      "             1  2  3\n",
      " 4  5  6  7  8  9 10\n",
      "11 12 13 14 15 16 17\n",
      "18 19 20 21 22 23 24\n",
      "25 26 27 28 29 30 31\n",
      "\n"
     ]
    }
   ],
   "source": [
    "# importing date class from datetime module\n",
    "from datetime import date\n",
    "\n",
    "#program to display the calendar\n",
    "import calendar\n",
    "\n",
    "# creating the date object of today's date\n",
    "todays_date = date.today()\n",
    "  \n",
    "# printing todays date\n",
    "print(\"Current date: \", todays_date)\n",
    "  \n",
    "# fetching the current year, month and day of today\n",
    "print(\"\\nCurrent year  :\", todays_date.year)\n",
    "print(\"Current month :\", todays_date.month)\n",
    "print(\"Current day   :\", todays_date.day)\n",
    "\n",
    "print('\\n', calendar.month(todays_date.year,todays_date.month))"
   ]
  },
  {
   "cell_type": "code",
   "execution_count": null,
   "metadata": {},
   "outputs": [],
   "source": []
  }
 ],
 "metadata": {
  "kernelspec": {
   "display_name": "Python 3",
   "language": "python",
   "name": "python3"
  },
  "language_info": {
   "codemirror_mode": {
    "name": "ipython",
    "version": 3
   },
   "file_extension": ".py",
   "mimetype": "text/x-python",
   "name": "python",
   "nbconvert_exporter": "python",
   "pygments_lexer": "ipython3",
   "version": "3.7.4"
  }
 },
 "nbformat": 4,
 "nbformat_minor": 2
}
